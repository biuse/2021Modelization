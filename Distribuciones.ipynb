{
 "cells": [
  {
   "cell_type": "markdown",
   "metadata": {
    "id": "6N6hdr5uQJ4e"
   },
   "source": [
    "# Inferencia\n",
    "Hablamos de inferencia estadística cuando queremos obtener información de unos datos, idealmente que nos permita hacer predicciones. Intentamos caracterizar a toda una población a partir de una muestra pequeña. En la estadísitca descriptiva nos quedabamos con unos pocos valores, pero lo ideal sería saber la distribución de una población. Una vez sabemos la distribución podemos calcular la probabilidad de que un valor pertenezca o no a dicha población, lo que nos permite hacer ciertas predicciones. \n"
   ]
  },
  {
   "cell_type": "markdown",
   "metadata": {},
   "source": [
    "## 1. Funciones de distribución\n",
    "La **función de distribución**, F(x), se define como:\n",
    "$F(x)=P(X\\leq x), x\\in R$\n",
    "\n",
    "Es decir F(x) nos da la probabilidad de que X tome un valor igual o inferior a x.\n",
    "\n",
    "Con variables aleatorias también se suele trabajar con la **función de densidad de distribución** que es la derivada de la función de distribución:\n",
    "\n",
    "$p(x) = \\frac{dF(x)}{dx}$\n",
    "\n",
    "Las probabilidades se pueden seguir calculando usando el area debajo de la p(x). \n",
    "\n",
    "<img src=\"img/prob.jpg\" width=600 height=400 />"
   ]
  },
  {
   "cell_type": "markdown",
   "metadata": {},
   "source": [
    "Lo que intenaremos hacer es modelar la distribución de nuestros datos con una función de distribución de tal manera que nos sea simple estimar probabilidades.\n",
    "\n",
    "Siempre podemos calcular P(X<x) con los datos pero solo es fiable si tenemos una gran cantidad. Aunque un modelo teórico nos permite predecir la probabilidad de cualquier valor con mayor precisión y facilita la estimación de los parámetros característicos de una población. "
   ]
  },
  {
   "cell_type": "markdown",
   "metadata": {},
   "source": [
    "## 2. Distribuciones\n",
    "Vemos aquí las más típicas: uniforme, normal, possion y binomial. Para los modelos teóricos usaremos el paquete `scipy`."
   ]
  },
  {
   "cell_type": "markdown",
   "metadata": {},
   "source": [
    "### Distribución uniforme:\n",
    "\n",
    "Los valores se distribuyen uniformemente, se caracteriza por el valor máximo y el mínimo, y todos se comportan igual. Dentro de este rango todos tienen pdf = 1, y fuera pdf = 0"
   ]
  },
  {
   "cell_type": "code",
   "execution_count": 2,
   "metadata": {},
   "outputs": [
    {
     "data": {
      "text/plain": [
       "(array([1.05424431, 1.01408263, 1.1847698 , 0.97392094, 1.0040422 ,\n",
       "        0.92371883, 1.10444642, 0.95384009, 0.89359756, 0.93375925]),\n",
       " array([0.0033443 , 0.1029417 , 0.20253911, 0.30213652, 0.40173392,\n",
       "        0.50133133, 0.60092874, 0.70052614, 0.80012355, 0.89972096,\n",
       "        0.99931837]),\n",
       " <BarContainer object of 10 artists>)"
      ]
     },
     "execution_count": 2,
     "metadata": {},
     "output_type": "execute_result"
    },
    {
     "data": {
      "image/png": "[encoded data removed]",
      "text/plain": [
       "<Figure size 432x288 with 1 Axes>"
      ]
     },
     "metadata": {
      "needs_background": "light"
     },
     "output_type": "display_data"
    }
   ],
   "source": [
    "import numpy as np\n",
    "import matplotlib.pyplot as pl\n",
    "from scipy.stats import uniform\n",
    "\n",
    "pl.hist(np.random.uniform(0,1,1000),density= True)"
   ]
  },
  {
   "cell_type": "code",
   "execution_count": 98,
   "metadata": {},
   "outputs": [
    {
     "data": {
      "text/plain": [
       "[<matplotlib.lines.Line2D at 0x127bdd1c0>]"
      ]
     },
     "execution_count": 98,
     "metadata": {},
     "output_type": "execute_result"
    },
    {
     "data": {
      "image/png": "[encoded data removed]",
      "text/plain": [
       "<Figure size 432x288 with 1 Axes>"
      ]
     },
     "metadata": {
      "needs_background": "light"
     },
     "output_type": "display_data"
    }
   ],
   "source": [
    "pl.hist(np.random.uniform(0,1,1000),density= True)\n",
    "\n",
    "# lanzamos valores del mismo rango que vemos en el histograma\n",
    "x = np.linspace(0, 1, 100)\n",
    "pl.plot(x, uniform.pdf(x), 'r-', lw=5, alpha=0.6, label='uniform pdf')\n",
    "# generamos ahora la distribución teórica\n",
    "\n"
   ]
  },
  {
   "cell_type": "code",
   "execution_count": 99,
   "metadata": {},
   "outputs": [
    {
     "data": {
      "text/plain": [
       "0.2"
      ]
     },
     "execution_count": 99,
     "metadata": {},
     "output_type": "execute_result"
    }
   ],
   "source": [
    "# Con las teóricas podemos encontrar que función\n",
    "# de probabilidad tiene un valor\n",
    "uniform.cdf(0.2)"
   ]
  },
  {
   "cell_type": "code",
   "execution_count": 100,
   "metadata": {
    "id": "xX78WA1sQWHe"
   },
   "outputs": [
    {
     "data": {
      "text/plain": [
       "0.4"
      ]
     },
     "execution_count": 100,
     "metadata": {},
     "output_type": "execute_result"
    }
   ],
   "source": [
    "# también qué valores tienen una función de probabilidad dada\n",
    "uniform.ppf(0.4)"
   ]
  },
  {
   "cell_type": "code",
   "execution_count": 101,
   "metadata": {},
   "outputs": [
    {
     "data": {
      "text/plain": [
       "0.0"
      ]
     },
     "execution_count": 101,
     "metadata": {},
     "output_type": "execute_result"
    }
   ],
   "source": [
    "uniform.pdf(10)"
   ]
  },
  {
   "cell_type": "code",
   "execution_count": 102,
   "metadata": {},
   "outputs": [
    {
     "data": {
      "text/plain": [
       "1.0"
      ]
     },
     "execution_count": 102,
     "metadata": {},
     "output_type": "execute_result"
    }
   ],
   "source": [
    "uniform.pdf(0.5)"
   ]
  },
  {
   "cell_type": "markdown",
   "metadata": {},
   "source": [
    "### Distribución Normal\n",
    "En la naturaleza, por suerte, hay muchas variables que se comportan de una manera Gaussiana o normal. Se caracteriza por la media y la desviación típica."
   ]
  },
  {
   "cell_type": "code",
   "execution_count": 24,
   "metadata": {},
   "outputs": [
    {
     "data": {
      "image/png": "[encoded data removed]",
      "text/plain": [
       "<Figure size 432x288 with 1 Axes>"
      ]
     },
     "metadata": {
      "needs_background": "light"
     },
     "output_type": "display_data"
    }
   ],
   "source": [
    "from scipy.stats import norm\n",
    "norm_dist = np.random.normal(1.75, 0.1, 1000)\n",
    "pl.hist(norm_dist,density = True);\n"
   ]
  },
  {
   "cell_type": "code",
   "execution_count": 25,
   "metadata": {},
   "outputs": [
    {
     "data": {
      "image/png": "[encoded data removed]",
      "text/plain": [
       "<Figure size 432x288 with 1 Axes>"
      ]
     },
     "metadata": {
      "needs_background": "light"
     },
     "output_type": "display_data"
    }
   ],
   "source": [
    "pl.hist(norm_dist,density = True);\n",
    "# lanzamos valores del mismo rango que vemos en el histograma\n",
    "x = np.linspace(1.4, 2.2, 1000)\n",
    "pl.plot(x, norm.pdf(x, 1.75, 0.1), 'r-', lw=5, alpha=0.6, label='gauss pdf');\n",
    "pl.legend();"
   ]
  },
  {
   "cell_type": "markdown",
   "metadata": {},
   "source": [
    "Ejemplo: En una población la altura media es 1.75m  y la desviación típica 0.1m  ¿Probabilidad de que una persona de la población mida menos de 1.60m?"
   ]
  },
  {
   "cell_type": "code",
   "execution_count": 26,
   "metadata": {},
   "outputs": [
    {
     "data": {
      "text/plain": [
       "0.06680720126885817"
      ]
     },
     "execution_count": 26,
     "metadata": {},
     "output_type": "execute_result"
    }
   ],
   "source": [
    "# usamos la función de probabilidad cdf, ponemos el valor que queremos evaluar\n",
    "# y luego la media y la simga. los detalles de cada uno están en \n",
    "# https://docs.scipy.org/doc/scipy/reference/generated/scipy.stats.norm.html\n",
    "\n",
    "norm.cdf(1.6, 1.75, 0.1)"
   ]
  },
  {
   "cell_type": "markdown",
   "metadata": {},
   "source": [
    "Si quisieramos saber qué altura tendría alguien de esta población que la probabilidad que exista una persona más baja sea 0.01 usamos ppf"
   ]
  },
  {
   "cell_type": "code",
   "execution_count": 27,
   "metadata": {},
   "outputs": [
    {
     "data": {
      "text/plain": [
       "1.5173652125959158"
      ]
     },
     "execution_count": 27,
     "metadata": {},
     "output_type": "execute_result"
    }
   ],
   "source": [
    "norm.ppf(0.01, 1.75, 0.1)"
   ]
  },
  {
   "cell_type": "markdown",
   "metadata": {},
   "source": [
    "Nos sale alguien que mide 1.5 medio. Si esa población incluyera por ejemplo niños sería más ancha y obtendríamos otro tipo de resultados."
   ]
  },
  {
   "cell_type": "code",
   "execution_count": 28,
   "metadata": {},
   "outputs": [
    {
     "data": {
      "text/plain": [
       "0.5868260629795796"
      ]
     },
     "execution_count": 28,
     "metadata": {},
     "output_type": "execute_result"
    }
   ],
   "source": [
    "norm.ppf(0.01, 1.75, 0.5)"
   ]
  },
  {
   "cell_type": "markdown",
   "metadata": {
    "id": "8XKwa4aUQZ-F"
   },
   "source": [
    "### Distribución Binomial\n",
    "La variable aleatoria binomial es la suma de n variables aleatorias discretas. (No pueden tomar cualquier valor). Repetimos n veces un experimento binario con dos posibles resultados cada vez, 1 = éxito y 0 = fracaso, con probabilidades p y 1 − p respectivamente. La variable aleatoria binomial X representa el número total de éxitos obtenidos en los n ensayos independientes. Típica distribucíon de que los resultados de tirar un dado.\n",
    "\n"
   ]
  },
  {
   "cell_type": "code",
   "execution_count": 29,
   "metadata": {},
   "outputs": [
    {
     "data": {
      "text/plain": [
       "(array([0.626, 0.   , 0.85 , 0.   , 0.412, 0.   , 0.104, 0.   , 0.006,\n",
       "        0.002]),\n",
       " array([0. , 0.5, 1. , 1.5, 2. , 2.5, 3. , 3.5, 4. , 4.5, 5. ]),\n",
       " <BarContainer object of 10 artists>)"
      ]
     },
     "execution_count": 29,
     "metadata": {},
     "output_type": "execute_result"
    },
    {
     "data": {
      "image/png": "[encoded data removed]",
      "text/plain": [
       "<Figure size 432x288 with 1 Axes>"
      ]
     },
     "metadata": {
      "needs_background": "light"
     },
     "output_type": "display_data"
    }
   ],
   "source": [
    "from scipy.stats import binom\n",
    "\n",
    "bin_dist = np.random.binomial(5, 0.2, 1000)\n",
    "pl.hist(bin_dist,density = True)\n"
   ]
  },
  {
   "cell_type": "markdown",
   "metadata": {},
   "source": [
    "- Ejemplo: Lanzamos 5 veces una moneda. ¿Probabilidad de sacar 4 caras?"
   ]
  },
  {
   "cell_type": "code",
   "execution_count": 30,
   "metadata": {
    "colab": {
     "base_uri": "https://localhost:8080/",
     "height": 34
    },
    "id": "EHzReJNwQg5f",
    "outputId": "91f34b78-9e52-4df2-ff04-9edb861d74ea"
   },
   "outputs": [
    {
     "data": {
      "text/plain": [
       "0.15625"
      ]
     },
     "execution_count": 30,
     "metadata": {},
     "output_type": "execute_result"
    }
   ],
   "source": [
    "\n",
    "x = 4\n",
    "n = 5\n",
    "p = 0.5\n",
    "\n",
    "binom.pmf(x, n, p)  # en vez de pdf usamos probabilidad mass function porque es una variable discreta"
   ]
  },
  {
   "cell_type": "markdown",
   "metadata": {
    "id": "MzeXQmhoQmy4"
   },
   "source": [
    "- Lanzamos 5 veces una moneda. ¿Probabilidad de sacar 4 caras o menos?"
   ]
  },
  {
   "cell_type": "code",
   "execution_count": 31,
   "metadata": {
    "colab": {
     "base_uri": "https://localhost:8080/",
     "height": 34
    },
    "id": "E1GNBOhaQpMH",
    "outputId": "4c719e4a-249c-4af5-839e-30f41ecf56c6"
   },
   "outputs": [
    {
     "data": {
      "text/plain": [
       "0.96875"
      ]
     },
     "execution_count": 31,
     "metadata": {},
     "output_type": "execute_result"
    }
   ],
   "source": [
    "binom.cdf(x, n, p)"
   ]
  },
  {
   "cell_type": "markdown",
   "metadata": {
    "id": "V93EZG4oQxRQ"
   },
   "source": [
    "### Distribución de Poisson\n",
    "La distribución de Possion también aparece en variables discretas, expresa la probabilidad de que un determinado número de eventos ocurra en un intérvalo de tiempo. \n",
    "\n"
   ]
  },
  {
   "cell_type": "code",
   "execution_count": 32,
   "metadata": {},
   "outputs": [
    {
     "data": {
      "image/png": "[encoded data removed]",
      "text/plain": [
       "<Figure size 432x288 with 1 Axes>"
      ]
     },
     "metadata": {
      "needs_background": "light"
     },
     "output_type": "display_data"
    }
   ],
   "source": [
    "from scipy.stats import poisson\n",
    "\n",
    "\n",
    "poisson_dist = np.random.poisson(3, 1000)\n",
    "pl.hist(poisson_dist,density = True);"
   ]
  },
  {
   "cell_type": "markdown",
   "metadata": {},
   "source": [
    "- Ejemplo: El número medio de accidentes por año un una carretera es 3. ¿Probabilidad de que haya 7 el próximo año?\n"
   ]
  },
  {
   "cell_type": "code",
   "execution_count": 33,
   "metadata": {
    "colab": {
     "base_uri": "https://localhost:8080/",
     "height": 34
    },
    "id": "OOZKGliZQy1K",
    "outputId": "a2e526a8-078d-4a12-b6f0-9e1d965683c1"
   },
   "outputs": [
    {
     "data": {
      "text/plain": [
       "0.02160403145248382"
      ]
     },
     "execution_count": 33,
     "metadata": {},
     "output_type": "execute_result"
    }
   ],
   "source": [
    "\n",
    "lmbd = 3\n",
    "x = 7\n",
    "poisson.pmf(x,lmbd)"
   ]
  },
  {
   "cell_type": "markdown",
   "metadata": {
    "id": "ObD59sBMQ4m8"
   },
   "source": [
    "- ¿Probabilidad de que haya 7 o menos el próximo año?"
   ]
  },
  {
   "cell_type": "code",
   "execution_count": 34,
   "metadata": {
    "colab": {
     "base_uri": "https://localhost:8080/",
     "height": 34
    },
    "id": "FImZHDBrQ7PY",
    "outputId": "48607fa3-5f9b-4531-ddca-93ad41c5b3d2"
   },
   "outputs": [
    {
     "data": {
      "text/plain": [
       "0.9880954961436426"
      ]
     },
     "execution_count": 34,
     "metadata": {},
     "output_type": "execute_result"
    }
   ],
   "source": [
    "poisson.cdf(x,lmbd)"
   ]
  },
  {
   "cell_type": "markdown",
   "metadata": {},
   "source": [
    "Hay algunos tests que nos permiten saber si nuestros datos pertenecen a una distribución. Pero primero tenemos que hacer una suposición sobre dicha distribución. Para eso siempre tenemos en cuenta la naturaleza de la variables y su visualización. "
   ]
  },
  {
   "cell_type": "markdown",
   "metadata": {},
   "source": [
    "## 3. Ejercicios para practicar\n",
    "1. En el archivo GOT.txt figura el número de muertes por cada uno de los 55 primeros capítulos de la serie Juego de Tronos.\n",
    "\n",
    "* Razona qué distribución usarías para calcular probabilidades asociadas a esta variable.\n",
    "* Estima la probabilidad de que en el siguiente capítulo haya más de 5 muertes. Explica qué suposiciones has hecho."
   ]
  },
  {
   "cell_type": "code",
   "execution_count": 35,
   "metadata": {},
   "outputs": [],
   "source": [
    "# Código"
   ]
  },
  {
   "cell_type": "markdown",
   "metadata": {},
   "source": [
    "2. Lee el archivo data/sample1.txt. Visualiza el histograma, deduce de qué distribución se trata, usa esa función para encontrar los valores caracterísitcos de la distribución \" a mano\". Usando las funciones de `scipy.stats` puedes ir probando valores y haciendo el gráfico encima del histograma para ver cual es el que mejor se ajusta. Haz 3 o 4 plots de la función encima del histograma a la vez para ver la diferencia. Recuerda usar el histograma con density = True. Pon la leyenda para que se entienda el plot.  "
   ]
  },
  {
   "cell_type": "code",
   "execution_count": null,
   "metadata": {},
   "outputs": [],
   "source": []
  }
 ],
 "metadata": {
  "colab": {
   "collapsed_sections": [],
   "name": "Distribuciones.ipynb",
   "provenance": []
  },
  "kernelspec": {
   "display_name": "Python 3 (ipykernel)",
   "language": "python",
   "name": "python3"
  },
  "language_info": {
   "codemirror_mode": {
    "name": "ipython",
    "version": 3
   },
   "file_extension": ".py",
   "mimetype": "text/x-python",
   "name": "python",
   "nbconvert_exporter": "python",
   "pygments_lexer": "ipython3",
   "version": "3.8.2"
  }
 },
 "nbformat": 4,
 "nbformat_minor": 1
}
