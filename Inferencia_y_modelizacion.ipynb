{
 "cells": [
  {
   "cell_type": "markdown",
   "metadata": {},
   "source": [
    "# Interpolación, extrapolación y modelización:"
   ]
  },
  {
   "cell_type": "markdown",
   "metadata": {},
   "source": [
    "## Interpolación\n",
    "\n",
    " Tenemos una serie de datos y queremos dar un valor a un punto intermedio.\n",
    "\n"
   ]
  },
  {
   "cell_type": "code",
   "execution_count": 6,
   "metadata": {},
   "outputs": [],
   "source": [
    "import numpy as np\n",
    "import matplotlib.pyplot as plt"
   ]
  },
  {
   "cell_type": "code",
   "execution_count": 7,
   "metadata": {},
   "outputs": [
    {
     "data": {
      "image/png": "[encoded data removed]",
      "text/plain": [
       "<Figure size 432x288 with 1 Axes>"
      ]
     },
     "metadata": {
      "needs_background": "light"
     },
     "output_type": "display_data"
    }
   ],
   "source": [
    "Data = np.loadtxt('data/Data1_modelling.txt') # 3 columnas, x, y , yerr\n",
    "x = Data[:,0]; y = Data[:,1]\n",
    "plt.plot(x, y, 's',label='data',color='b')\n",
    "plt.legend();\n",
    "plt.xlabel('x');\n",
    "plt.ylabel('y');"
   ]
  },
  {
   "cell_type": "markdown",
   "metadata": {},
   "source": [
    "Podemos interpolar nosotros haciendo un promedio de los valores contiguos. Por ejemplo si queremos añadir un punto entre los dos primeros, calculamos el valor medio tanto entre x[0] y x[1] como de y[0] e y[1]"
   ]
  },
  {
   "cell_type": "code",
   "execution_count": 8,
   "metadata": {},
   "outputs": [
    {
     "data": {
      "image/png": "[encoded data removed]",
      "text/plain": [
       "<Figure size 432x288 with 1 Axes>"
      ]
     },
     "metadata": {
      "needs_background": "light"
     },
     "output_type": "display_data"
    }
   ],
   "source": [
    "# queremos saber valor en el\n",
    "# valor medio de los valores contiguos\n",
    "valy=(y[0]+y[1])/2\n",
    "valx=(x[0]+x[1])/2\n",
    "plt.plot(x, y, 's',label='data',color='b')\n",
    "plt.plot(valx,valy,'rs')\n",
    "plt.xlabel('x');\n",
    "plt.ylabel('y');\n"
   ]
  },
  {
   "cell_type": "markdown",
   "metadata": {},
   "source": [
    "De manera general, lo que hacemos es trazar una recta entre los dos puntos. Y hacemos esto para cada par de puntos, de manera que hacemos la interpolación poco suave. Esta interpolación es solo válida cuando tenemos puntos muy cercanos. Para otro tipo de interpolaciones usamos más de un número contiguo. \n",
    "\n",
    "En **Python** podemos usar `interp1d` del paquete `scipy.interpolate` para hacerlo de distintas maneras. "
   ]
  },
  {
   "cell_type": "code",
   "execution_count": 9,
   "metadata": {},
   "outputs": [
    {
     "data": {
      "image/png": "[encoded data removed]",
      "text/plain": [
       "<Figure size 432x288 with 1 Axes>"
      ]
     },
     "metadata": {
      "needs_background": "light"
     },
     "output_type": "display_data"
    }
   ],
   "source": [
    "from scipy.interpolate import interp1d\n",
    "f = interp1d(x, y) # kind='linear','cubic','cuadratic',... (por defecto linear)\n",
    "# interp1d entre cada 2 puntos se ha estimado una recta\n",
    "plt.plot(x, y, 's',label='data',color='b')\n",
    "plt.plot(valx, f(valx), 'rs')\n",
    "plt.plot(-3.8, f(-3.8), 'gs')\n",
    "plt.plot(-2.8, f(-2.8), 'gs')\n",
    "plt.plot(-0.7, f(-0.7), 'gs')\n",
    "plt.xlabel('x');\n",
    "plt.ylabel('y');\n"
   ]
  },
  {
   "cell_type": "markdown",
   "metadata": {},
   "source": [
    "## Extrapolación\n",
    "Ahora vamos a intentar predecir un valor fuera de los datos que tenemos:"
   ]
  },
  {
   "cell_type": "code",
   "execution_count": 10,
   "metadata": {},
   "outputs": [
    {
     "ename": "ValueError",
     "evalue": "A value in x_new is above the interpolation range.",
     "output_type": "error",
     "traceback": [
      "\u001b[0;31m---------------------------------------------------------------------------\u001b[0m",
      "\u001b[0;31mValueError\u001b[0m                                Traceback (most recent call last)",
      "\u001b[0;32m/var/folders/8n/8gxx65_52xq17qlkhphqy2hm0000gn/T/ipykernel_23873/3773253182.py\u001b[0m in \u001b[0;36m<module>\u001b[0;34m\u001b[0m\n\u001b[1;32m      1\u001b[0m \u001b[0;31m# Extrapolamos\u001b[0m\u001b[0;34m\u001b[0m\u001b[0;34m\u001b[0m\u001b[0;34m\u001b[0m\u001b[0m\n\u001b[0;32m----> 2\u001b[0;31m \u001b[0myval\u001b[0m \u001b[0;34m=\u001b[0m \u001b[0mf\u001b[0m\u001b[0;34m(\u001b[0m\u001b[0;36m1\u001b[0m\u001b[0;34m)\u001b[0m\u001b[0;34m\u001b[0m\u001b[0;34m\u001b[0m\u001b[0m\n\u001b[0m\u001b[1;32m      3\u001b[0m \u001b[0mplt\u001b[0m\u001b[0;34m.\u001b[0m\u001b[0mplot\u001b[0m\u001b[0;34m(\u001b[0m\u001b[0;36m1\u001b[0m\u001b[0;34m,\u001b[0m \u001b[0myval\u001b[0m\u001b[0;34m,\u001b[0m \u001b[0;34m'ks'\u001b[0m\u001b[0;34m)\u001b[0m  \u001b[0;31m# Falla ! no sabe extrapolar\u001b[0m\u001b[0;34m\u001b[0m\u001b[0;34m\u001b[0m\u001b[0m\n",
      "\u001b[0;32m~/Library/Python/3.8/lib/python/site-packages/scipy/interpolate/polyint.py\u001b[0m in \u001b[0;36m__call__\u001b[0;34m(self, x)\u001b[0m\n\u001b[1;32m     76\u001b[0m         \"\"\"\n\u001b[1;32m     77\u001b[0m         \u001b[0mx\u001b[0m\u001b[0;34m,\u001b[0m \u001b[0mx_shape\u001b[0m \u001b[0;34m=\u001b[0m \u001b[0mself\u001b[0m\u001b[0;34m.\u001b[0m\u001b[0m_prepare_x\u001b[0m\u001b[0;34m(\u001b[0m\u001b[0mx\u001b[0m\u001b[0;34m)\u001b[0m\u001b[0;34m\u001b[0m\u001b[0;34m\u001b[0m\u001b[0m\n\u001b[0;32m---> 78\u001b[0;31m         \u001b[0my\u001b[0m \u001b[0;34m=\u001b[0m \u001b[0mself\u001b[0m\u001b[0;34m.\u001b[0m\u001b[0m_evaluate\u001b[0m\u001b[0;34m(\u001b[0m\u001b[0mx\u001b[0m\u001b[0;34m)\u001b[0m\u001b[0;34m\u001b[0m\u001b[0;34m\u001b[0m\u001b[0m\n\u001b[0m\u001b[1;32m     79\u001b[0m         \u001b[0;32mreturn\u001b[0m \u001b[0mself\u001b[0m\u001b[0;34m.\u001b[0m\u001b[0m_finish_y\u001b[0m\u001b[0;34m(\u001b[0m\u001b[0my\u001b[0m\u001b[0;34m,\u001b[0m \u001b[0mx_shape\u001b[0m\u001b[0;34m)\u001b[0m\u001b[0;34m\u001b[0m\u001b[0;34m\u001b[0m\u001b[0m\n\u001b[1;32m     80\u001b[0m \u001b[0;34m\u001b[0m\u001b[0m\n",
      "\u001b[0;32m~/Library/Python/3.8/lib/python/site-packages/scipy/interpolate/interpolate.py\u001b[0m in \u001b[0;36m_evaluate\u001b[0;34m(self, x_new)\u001b[0m\n\u001b[1;32m    682\u001b[0m         \u001b[0my_new\u001b[0m \u001b[0;34m=\u001b[0m \u001b[0mself\u001b[0m\u001b[0;34m.\u001b[0m\u001b[0m_call\u001b[0m\u001b[0;34m(\u001b[0m\u001b[0mself\u001b[0m\u001b[0;34m,\u001b[0m \u001b[0mx_new\u001b[0m\u001b[0;34m)\u001b[0m\u001b[0;34m\u001b[0m\u001b[0;34m\u001b[0m\u001b[0m\n\u001b[1;32m    683\u001b[0m         \u001b[0;32mif\u001b[0m \u001b[0;32mnot\u001b[0m \u001b[0mself\u001b[0m\u001b[0;34m.\u001b[0m\u001b[0m_extrapolate\u001b[0m\u001b[0;34m:\u001b[0m\u001b[0;34m\u001b[0m\u001b[0;34m\u001b[0m\u001b[0m\n\u001b[0;32m--> 684\u001b[0;31m             \u001b[0mbelow_bounds\u001b[0m\u001b[0;34m,\u001b[0m \u001b[0mabove_bounds\u001b[0m \u001b[0;34m=\u001b[0m \u001b[0mself\u001b[0m\u001b[0;34m.\u001b[0m\u001b[0m_check_bounds\u001b[0m\u001b[0;34m(\u001b[0m\u001b[0mx_new\u001b[0m\u001b[0;34m)\u001b[0m\u001b[0;34m\u001b[0m\u001b[0;34m\u001b[0m\u001b[0m\n\u001b[0m\u001b[1;32m    685\u001b[0m             \u001b[0;32mif\u001b[0m \u001b[0mlen\u001b[0m\u001b[0;34m(\u001b[0m\u001b[0my_new\u001b[0m\u001b[0;34m)\u001b[0m \u001b[0;34m>\u001b[0m \u001b[0;36m0\u001b[0m\u001b[0;34m:\u001b[0m\u001b[0;34m\u001b[0m\u001b[0;34m\u001b[0m\u001b[0m\n\u001b[1;32m    686\u001b[0m                 \u001b[0;31m# Note fill_value must be broadcast up to the proper size\u001b[0m\u001b[0;34m\u001b[0m\u001b[0;34m\u001b[0m\u001b[0;34m\u001b[0m\u001b[0m\n",
      "\u001b[0;32m~/Library/Python/3.8/lib/python/site-packages/scipy/interpolate/interpolate.py\u001b[0m in \u001b[0;36m_check_bounds\u001b[0;34m(self, x_new)\u001b[0m\n\u001b[1;32m    714\u001b[0m                              \"range.\")\n\u001b[1;32m    715\u001b[0m         \u001b[0;32mif\u001b[0m \u001b[0mself\u001b[0m\u001b[0;34m.\u001b[0m\u001b[0mbounds_error\u001b[0m \u001b[0;32mand\u001b[0m \u001b[0mabove_bounds\u001b[0m\u001b[0;34m.\u001b[0m\u001b[0many\u001b[0m\u001b[0;34m(\u001b[0m\u001b[0;34m)\u001b[0m\u001b[0;34m:\u001b[0m\u001b[0;34m\u001b[0m\u001b[0;34m\u001b[0m\u001b[0m\n\u001b[0;32m--> 716\u001b[0;31m             raise ValueError(\"A value in x_new is above the interpolation \"\n\u001b[0m\u001b[1;32m    717\u001b[0m                              \"range.\")\n\u001b[1;32m    718\u001b[0m \u001b[0;34m\u001b[0m\u001b[0m\n",
      "\u001b[0;31mValueError\u001b[0m: A value in x_new is above the interpolation range."
     ]
    }
   ],
   "source": [
    "# Extrapolamos\n",
    "yval = f(1)\n",
    "plt.plot(1, yval, 'ks')  # Falla ! no sabe extrapolar"
   ]
  },
  {
   "cell_type": "markdown",
   "metadata": {},
   "source": [
    "Con `interp1d` podemos indicar que extrapole:"
   ]
  },
  {
   "cell_type": "code",
   "execution_count": 11,
   "metadata": {},
   "outputs": [
    {
     "name": "stdout",
     "output_type": "stream",
     "text": [
      "0.752295194488923\n"
     ]
    },
    {
     "data": {
      "image/png": "[encoded data removed]",
      "text/plain": [
       "<Figure size 432x288 with 1 Axes>"
      ]
     },
     "metadata": {
      "needs_background": "light"
     },
     "output_type": "display_data"
    }
   ],
   "source": [
    "f = interp1d(x, y, fill_value='extrapolate')\n",
    "yval=f(0.5)\n",
    "print(yval)\n",
    "plt.plot(x, y, 's', label='data', color='b')\n",
    "plt.plot(0.5, yval, 'rs');"
   ]
  },
  {
   "cell_type": "markdown",
   "metadata": {},
   "source": [
    "Lo que ha hecho es trazar la recta (u otra curva que indiquemos) con los dos (o más) últimos puntos y extrapola en base a eso. Vemos el caso lineal aquí: "
   ]
  },
  {
   "cell_type": "code",
   "execution_count": 12,
   "metadata": {},
   "outputs": [
    {
     "name": "stdout",
     "output_type": "stream",
     "text": [
      "yval     0.7522951944889229\n",
      "interp1d 0.752295194488923\n"
     ]
    },
    {
     "data": {
      "image/png": "[encoded data removed]",
      "text/plain": [
       "<Figure size 432x288 with 1 Axes>"
      ]
     },
     "metadata": {
      "needs_background": "light"
     },
     "output_type": "display_data"
    }
   ],
   "source": [
    "a = (y[-1]-y[-2])/(x[-1]-x[-2])\n",
    "b = y[-1]-x[-1]*a\n",
    "# calculamos valor de la distancia a las 10 horas\n",
    "yval = a * 0.5 + b\n",
    "print('yval    ', yval)\n",
    "print('interp1d', f(0.5))\n",
    "x3 = np.arange(-0.5, 0.6, 0.1)\n",
    "plt.plot(x, y, 's',label='data',color='b')\n",
    "plt.xlabel('x')\n",
    "plt.ylabel('y')\n",
    "plt.plot(x3, a * x3 + b,'k');\n",
    "plt.plot(0.5, yval, 'rs');"
   ]
  },
  {
   "cell_type": "markdown",
   "metadata": {},
   "source": [
    "## Modelización\n",
    "Lo ideal sería usar todos los datos para sacar un **modelo**. Lo ideal sería tener una idea de como se comportan los datos. Si no la tenemos, siempre podemos ajustar a un polinomio. Nuestro datos parece que se comportan como una parábola, probamos con un polinomio de grado 2 usando `polyfit`:"
   ]
  },
  {
   "cell_type": "code",
   "execution_count": 13,
   "metadata": {},
   "outputs": [
    {
     "name": "stdout",
     "output_type": "stream",
     "text": [
      "a= 0.5986 b= 2.4025 c= 0.2347\n",
      "        2\n",
      "0.5986 x + 2.402 x + 0.2347\n"
     ]
    },
    {
     "data": {
      "image/png": "[encoded data removed]",
      "text/plain": [
       "<Figure size 432x288 with 1 Axes>"
      ]
     },
     "metadata": {
      "needs_background": "light"
     },
     "output_type": "display_data"
    }
   ],
   "source": [
    "par = np.polyfit(x, y, 2)\n",
    "print('a=', np.round(par[0],4), 'b=', np.round(par[1],4), 'c=', np.round(par[2],4))\n",
    "obj = np.poly1d(par)  # guarda la funcion obj=a[2]*x^2+a[1]*x+a[0]*x\n",
    "print(obj)\n",
    "plt.plot(x, y, 's',label='data', color='b')\n",
    "x3 = np.arange(-5, 2, 0.1)\n",
    "# ahora ya podemos extrapolar\n",
    "plt.plot(x3,obj(x3),'g')\n",
    "\n",
    "plt.xlabel('x');\n",
    "plt.ylabel('y');"
   ]
  },
  {
   "cell_type": "markdown",
   "metadata": {},
   "source": [
    "Una vez tengamos un modelo basado en unos datos es **MUY IMPORTANTE** testarlo en **datos independientes**. Recogemos más datos y los comparamos con las predicciones de nuestro modelo. "
   ]
  },
  {
   "cell_type": "code",
   "execution_count": 4,
   "metadata": {},
   "outputs": [
    {
     "ename": "NameError",
     "evalue": "name 'obj' is not defined",
     "output_type": "error",
     "traceback": [
      "\u001b[0;31m---------------------------------------------------------------------------\u001b[0m",
      "\u001b[0;31mNameError\u001b[0m                                 Traceback (most recent call last)",
      "\u001b[0;32m/var/folders/8n/8gxx65_52xq17qlkhphqy2hm0000gn/T/ipykernel_23873/2820065195.py\u001b[0m in \u001b[0;36m<module>\u001b[0;34m\u001b[0m\n\u001b[1;32m     10\u001b[0m \u001b[0;31m# el modelo ya no ajusta\u001b[0m\u001b[0;34m\u001b[0m\u001b[0;34m\u001b[0m\u001b[0;34m\u001b[0m\u001b[0m\n\u001b[1;32m     11\u001b[0m \u001b[0mxaux\u001b[0m \u001b[0;34m=\u001b[0m \u001b[0mnp\u001b[0m\u001b[0;34m.\u001b[0m\u001b[0marange\u001b[0m\u001b[0;34m(\u001b[0m\u001b[0;34m-\u001b[0m\u001b[0;36m5\u001b[0m\u001b[0;34m,\u001b[0m \u001b[0;36m5\u001b[0m\u001b[0;34m,\u001b[0m \u001b[0;36m0.1\u001b[0m\u001b[0;34m)\u001b[0m\u001b[0;34m\u001b[0m\u001b[0;34m\u001b[0m\u001b[0m\n\u001b[0;32m---> 12\u001b[0;31m \u001b[0mplt\u001b[0m\u001b[0;34m.\u001b[0m\u001b[0mplot\u001b[0m\u001b[0;34m(\u001b[0m\u001b[0mxaux\u001b[0m\u001b[0;34m,\u001b[0m \u001b[0mobj\u001b[0m\u001b[0;34m(\u001b[0m\u001b[0mxaux\u001b[0m\u001b[0;34m)\u001b[0m\u001b[0;34m,\u001b[0m \u001b[0mcolor\u001b[0m\u001b[0;34m=\u001b[0m\u001b[0;34m'g'\u001b[0m\u001b[0;34m)\u001b[0m\u001b[0;34m\u001b[0m\u001b[0;34m\u001b[0m\u001b[0m\n\u001b[0m\u001b[1;32m     13\u001b[0m \u001b[0mplt\u001b[0m\u001b[0;34m.\u001b[0m\u001b[0mplot\u001b[0m\u001b[0;34m(\u001b[0m\u001b[0;36m0.5\u001b[0m\u001b[0;34m,\u001b[0m \u001b[0mobj\u001b[0m\u001b[0;34m(\u001b[0m\u001b[0;36m0.5\u001b[0m\u001b[0;34m)\u001b[0m\u001b[0;34m,\u001b[0m \u001b[0;34m'sr'\u001b[0m\u001b[0;34m)\u001b[0m\u001b[0;34m\u001b[0m\u001b[0;34m\u001b[0m\u001b[0m\n\u001b[1;32m     14\u001b[0m \u001b[0mplt\u001b[0m\u001b[0;34m.\u001b[0m\u001b[0mylim\u001b[0m\u001b[0;34m(\u001b[0m\u001b[0;34m-\u001b[0m\u001b[0;36m5\u001b[0m\u001b[0;34m,\u001b[0m \u001b[0;36m5\u001b[0m\u001b[0;34m)\u001b[0m\u001b[0;34m;\u001b[0m\u001b[0;34m\u001b[0m\u001b[0;34m\u001b[0m\u001b[0m\n",
      "\u001b[0;31mNameError\u001b[0m: name 'obj' is not defined"
     ]
    },
    {
     "data": {
      "image/png": "[encoded data removed]",
      "text/plain": [
       "<Figure size 576x288 with 1 Axes>"
      ]
     },
     "metadata": {
      "needs_background": "light"
     },
     "output_type": "display_data"
    }
   ],
   "source": [
    "# En data2_modelling tenemos datos recogidos de unas horas más tarde\n",
    "plt.figure(0,figsize=(8,4))\n",
    "Data2 = np.loadtxt('data/Data2_modelling.txt')\n",
    "x2 = Data2[:,0]; y2 = Data2[:,1]\n",
    "x3 = np.concatenate((x, x2)) # en un mismo array todos los datos\n",
    "y3 = np.concatenate((y, y2)) # en un mismo array todos los datos\n",
    "\n",
    "plt.plot(x3[:30], y3[:30], 's', color='b', label='data')\n",
    "plt.xlim(-5, 2)\n",
    "# el modelo ya no ajusta\n",
    "xaux = np.arange(-5, 5, 0.1)\n",
    "plt.plot(xaux, obj(xaux), color='g')\n",
    "plt.plot(0.5, obj(0.5), 'sr')\n",
    "plt.ylim(-5, 5);\n"
   ]
  },
  {
   "cell_type": "markdown",
   "metadata": {},
   "source": [
    "Los **modelos empíricos** no suelen funcionar **fuera del rango** donde hemos ajustado el modelo. Mientras que los modelos teóricos son válidos para cualquier valor de las variables."
   ]
  },
  {
   "cell_type": "markdown",
   "metadata": {},
   "source": [
    "El caso de las mareas tiene un modelo téorico basado en la ley de la gravedad que sirve para hacer predicciones acertadas en cualquier momento del año. Pero a veces no tenemos esa información, lo que si solemos poder averiguar es que comportamiento tiene recogiendo el número suficiente de datos. Por ejemplo, si vemos que tiene una componente cíclica podemos probar con modelos **sinusoidales**. Para una función más general usamos `curve_fit` del paquete `scipy.optimize`"
   ]
  },
  {
   "cell_type": "code",
   "execution_count": 40,
   "metadata": {},
   "outputs": [
    {
     "name": "stdout",
     "output_type": "stream",
     "text": [
      "results [2.83 0.8 ]\n"
     ]
    },
    {
     "data": {
      "image/png": "[encoded data removed]",
      "text/plain": [
       "<Figure size 576x288 with 1 Axes>"
      ]
     },
     "metadata": {
      "needs_background": "light"
     },
     "output_type": "display_data"
    }
   ],
   "source": [
    "import scipy.optimize as opt\n",
    "\n",
    "\n",
    "# definimos el modelo en una función, con parámetros de entrada \n",
    "# la variables y los parámetros libres\n",
    "def func(x, a, b):\n",
    "     return a * np.sin(b*x)\n",
    "\n",
    "# hacemos ajuste por mínimos cuadrados usando curve_fit\n",
    "popt, pcov = opt.curve_fit(func, x3, y3)#,p0=(0.5,0.5,0.5))\n",
    "# esto nos devolverá los parametros a,b y c\n",
    "print('results',np.round(popt,2))\n",
    "\n",
    "a = popt[0]; b = popt[1]\n",
    "model = func(x3, a, b)\n",
    "\n",
    "plt.figure(0,figsize=(8,4))\n",
    "plt.plot(x3, y3, 's', color='b', label='data')\n",
    "plt.plot(x3, model, '-', color='g', label='fit')\n",
    "plt.xlim(-5,5)\n",
    "\n",
    "\n",
    "#model2 = func(x3, 3.1, 0.9)   # lo puedo comparar con los parámetros que alguien calculó previamente\n",
    "#plt.plot(x3, model2,'-', color='r', label='old model')\n",
    "\n",
    "plt.legend();"
   ]
  },
  {
   "cell_type": "markdown",
   "metadata": {},
   "source": [
    "Parece que esto ya se ajusta más. Y suele ser mejor si añadimos información del ruido, podemos dar esta información en `curve_fit`\n"
   ]
  },
  {
   "cell_type": "code",
   "execution_count": 49,
   "metadata": {},
   "outputs": [
    {
     "data": {
      "image/png": "[encoded data removed]",
      "text/plain": [
       "<Figure size 576x288 with 1 Axes>"
      ]
     },
     "metadata": {
      "needs_background": "light"
     },
     "output_type": "display_data"
    }
   ],
   "source": [
    "# añadimos información del ruido\n",
    "Data2 = np.loadtxt('data/Data2_modelling_noisy.txt')\n",
    "x = Data2[:,0]; y = Data2[:,1]; yerr = Data2[:,2]\n",
    "plt.figure(0,figsize=(8,4))\n",
    "# volvemos a hacer fit\n",
    "popt, pcov = opt.curve_fit(func, x, y)\n",
    "# añadimos información del error\n",
    "poptErr, pcov = opt.curve_fit(func, x, y, sigma=yerr)\n",
    "# esto nos devolverá los parametros a y b\n",
    "plt.errorbar(x, y, yerr=yerr,  marker='s',color='b',label='data',linestyle='')\n",
    "a = popt[0]; b = popt[1]\n",
    "model = func(x,a,b)\n",
    "modelErr = func(x, *poptErr)\n",
    "plt.plot(x, model, '-', color='g');\n",
    "plt.plot(x, modelErr,'-', color='r');\n"
   ]
  },
  {
   "cell_type": "code",
   "execution_count": 51,
   "metadata": {},
   "outputs": [
    {
     "name": "stdout",
     "output_type": "stream",
     "text": [
      "results     [2.63 0.78]\n",
      "results Err [2.91 0.8 ]\n",
      "True val    2.9 0.8\n",
      "Resultado más parecidos a los reales con poptErr\n"
     ]
    }
   ],
   "source": [
    "print('results    ',np.round(popt,2))\n",
    "print('results Err',np.round(poptErr,2))\n",
    "print('True val   ', 2.9, 0.8)\n",
    "print('Resultado más parecidos a los reales con poptErr')"
   ]
  },
  {
   "cell_type": "markdown",
   "metadata": {},
   "source": [
    "## Ejercicios para paracticar"
   ]
  },
  {
   "cell_type": "markdown",
   "metadata": {},
   "source": [
    "1. Practicaremos ajustar con polyfit y de paso repasamos cosas dadas en anteriores clases:\n",
    "\n",
    "* Define este polinomio de orden 3 usando numpy.poly1d o definiendo la función              \n",
    " \n",
    "* Simula unos datos, alrededor de 20 puntos con:\n",
    "   - x  números aleatorios entre -10 y 10  siguiendo una distribución uniforme. \n",
    "   - y = pol(x, a, b, c) con a,b y c que quierea + un ruido Gaussiano con un ruido Gaussiano con dispersion=25\n",
    " \n",
    "* Haz un ajuste usando polyfit, compara valores que obtienes con los que has metido.  \n",
    "\n",
    "* Haz plot de los datos y del ajuste. (Recuerda poner la leyenda)\n",
    "\n",
    "* Calcula el $\\chi^2$ de tu ajuste (mira la equación en la teoría) y calcula P(X>x) usando la función de distribución de $\\chi^2$ con los grados de libertad de este problema (usa scipy.stats.chi2, (P(X>x) = 1-P(X<=x).) \n",
    "\n",
    "* Muestra en un plot la distribución $\\chi^2$ con una línea vertical con el valor que obtienes del ajuste. \n",
    "\n"
   ]
  },
  {
   "cell_type": "code",
   "execution_count": null,
   "metadata": {},
   "outputs": [],
   "source": [
    "# respuesta"
   ]
  },
  {
   "cell_type": "markdown",
   "metadata": {},
   "source": [
    "2. Carga los datos en Data_exp.txt \n",
    "\n",
    "* Haz un ajuste usando `curve_fit` suponiendo que la función del modelo es: $ y = ae^{b\\sin{fx+\\theta}}$\n",
    "\n",
    "* Haz plot de los datos y del ajuste (con leyenda). \n",
    "\n",
    "* Busca el polinomio de grado mínimo que da un buen ajuste para estos datos. (Calcula mse para cada polinomio ajustado)\n",
    "\n",
    "* Compara los resultados usando el polinomio y la función anterior. \n",
    "\n",
    "* Carga los datos extendidos: Data_exp_large.txt y usálo para comprobar si tus modelos se ajustan a los nuevos datos."
   ]
  },
  {
   "cell_type": "code",
   "execution_count": 90,
   "metadata": {},
   "outputs": [],
   "source": [
    "# Código\n",
    "True_param = [3, 2, 1, np.pi/4]  # valores reales del modelo que se han usado para los datos Data_exp.txt\n",
    "                                 # por si quieres comparar con lo que saques. "
   ]
  },
  {
   "cell_type": "markdown",
   "metadata": {},
   "source": [
    "3. Modifica el siguiente código para mejorar el fit de los datos. Primero hay que encontrar la peculiaridad del modelo y buscar en `help(opt.curve_fit)` o directamente en [`curve_fit`](https://docs.scipy.org/doc/scipy/reference/generated/scipy.optimize.curve_fit.html) para resolverlo. "
   ]
  },
  {
   "cell_type": "code",
   "execution_count": 5,
   "metadata": {},
   "outputs": [
    {
     "name": "stdout",
     "output_type": "stream",
     "text": [
      "[1.1472383  3.05663278 0.95633142]\n"
     ]
    },
    {
     "data": {
      "image/png": "[encoded data removed]",
      "text/plain": [
       "<Figure size 432x288 with 1 Axes>"
      ]
     },
     "metadata": {
      "needs_background": "light"
     },
     "output_type": "display_data"
    }
   ],
   "source": [
    "import numpy as np\n",
    "from scipy.optimize import curve_fit\n",
    "import matplotlib.pyplot as mpl\n",
    "\n",
    "# Let's create a function to model and create data\n",
    "def func(x, a, x0, sigma):\n",
    "    return a*np.exp(-(x-x0)**2/(2*sigma**2))\n",
    "\n",
    "# Generating clean data\n",
    "x = np.linspace(0, 20, 200)\n",
    "y1 = func(x[np.where(x <= 10)], 1, 3, 1)\n",
    "y2 = func(x[(x > 10)], -2, 15, 0.5)\n",
    "\n",
    "y = np.hstack([y1, y2])\n",
    "\n",
    "# Adding noise to the data\n",
    "yn = y + 0.2 * np.random.normal(size=len(x))\n",
    "\n",
    "# Plot out the current state of the data and model\n",
    "fig = mpl.figure()\n",
    "ax = fig.add_subplot(111)\n",
    "ax.plot(x, y, c='k', label='Function')\n",
    "ax.scatter(x, yn)\n",
    "\n",
    "# Executing curve_fit on noisy data\n",
    "popt, pcov = curve_fit(func, x, yn)\n",
    "\n",
    "#popt returns the best fit values for parameters of the given model (func)\n",
    "print(popt)\n",
    "\n",
    "ym = func(x, popt[0], popt[1], popt[2])\n",
    "ax.plot(x, ym, c='r', label='Best fit')\n",
    "\n",
    "ax.legend();\n"
   ]
  },
  {
   "cell_type": "code",
   "execution_count": null,
   "metadata": {},
   "outputs": [],
   "source": []
  }
 ],
 "metadata": {
  "kernelspec": {
   "display_name": "Python 3 (ipykernel)",
   "language": "python",
   "name": "python3"
  },
  "language_info": {
   "codemirror_mode": {
    "name": "ipython",
    "version": 3
   },
   "file_extension": ".py",
   "mimetype": "text/x-python",
   "name": "python",
   "nbconvert_exporter": "python",
   "pygments_lexer": "ipython3",
   "version": "3.8.2"
  }
 },
 "nbformat": 4,
 "nbformat_minor": 2
}
